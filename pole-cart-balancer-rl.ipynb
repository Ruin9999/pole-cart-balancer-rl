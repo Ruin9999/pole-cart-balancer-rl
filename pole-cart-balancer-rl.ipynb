{
 "cells": [
  {
   "cell_type": "markdown",
   "id": "deb7ebc7",
   "metadata": {},
   "source": [
    "<h1> Project Description </h1>\n",
    "\n",
    "A pole is attached by an un-actuated joint to a cart, which moves along a frictionless track. The pendulum is placed upright on the cart and the goal is to balance the pole by applying forces in the left and right direction on the cart. In this project, you will need to develop a Reinforcement Learning (RL) agent. The trained agent makes the decision to push the cart to the left or right based on the cart position, velocity, and the pole angle, angular velocity.   \n",
    "  \n",
    "After some research, we decided on two different algorithms for this problem, the <span style=\"color:blue; font-weight:bold\"> Deep Q-learning Neural Network </span> and the <span style=\"color:blue; font-weight:bold\"> Proximial Policy Optimization </span>\n",
    "\n",
    "We present our findings here."
   ]
  },
  {
   "cell_type": "markdown",
   "id": "606d6130",
   "metadata": {},
   "source": [
    "## Solution"
   ]
  },
  {
   "cell_type": "markdown",
   "id": "4c2e14be",
   "metadata": {},
   "source": [
    "After some research, we came to the conclusion of 2 different algorithms for this problem, a <span style=\"color:blue; font-weight:bold\"> Deep Q-Learning Neural Network </span> and <span style=\"color:blue; font-weight:bold\"> Proximial Oplicy Optimization </span>\n",
    "\n",
    "These are the differences between the two reinforcement learning algorithm:"
   ]
  },
  {
   "cell_type": "markdown",
   "id": "2561edd4",
   "metadata": {},
   "source": [
    "<b>Deep Q-learning Neural Network </b> :   \n",
    "The Deep Q-learning Neural Netork is value based reinforcement learning algorithm that is similar to the Q-learning algorithm. However, instead of using a formula to greedily find the Q-function of the environment, DQN tries to approximate the Q-function using neural networks.\n",
    "\n",
    "DQN utilizes <b style=\"color:blue;\">Experience Replaying</b> and <b style=\"color:blue;\"> Fixed Q Targets </b> to stabilize its training along with the Q-learning update formula to approximate the Q-function.   \n",
    "\n",
    "The Q-learning update rule :\n",
    "\n",
    "<br/>\n",
    "$$ L_i(\\theta_i) = \\mathbb{E}_{s,a,s',r \\sim D} \\left[ \\left( r + \\gamma \\max_{a'} Q(s', a'; \\theta_i^-) - Q(s, a; \\theta_i) \\right)^2 \\right]\n",
    " $$\n",
    " \n"
   ]
  },
  {
   "cell_type": "markdown",
   "id": "cde690da",
   "metadata": {},
   "source": [
    "<b> Proximial Policy Optimization </b> :    \n",
    "Proximial Policy Optimization is a policy based reinforcement learning algorithm. PPO is a successor to the famous <b style=\"color:blue\">Trust Region Policy Optimization (TRPO) </b>, made by OpenAI to overcome its limitations.\n",
    "\n",
    "PPO tries to optimize the policy function without explicitly estimating the v value function. PPO is designed to not only be more <b style=\"color:blue;\">sample-efficient </b>, it is also more <b style=\"color:blue;\">stable during training</b>.\n",
    "\n",
    "PPO tries to optimize the policy using this function:     \n",
    "<br/>\n",
    "$$ L_t^{CLIP+VF+S}(\\theta) = \\hat{\\mathbb{E}}_t \\left[ L_t^{CLIP}(\\theta) - c_1 L_t^{VF}(\\theta) + c_2 S[\\pi_\\theta](s_t) \\right]\n",
    " $$"
   ]
  },
  {
   "cell_type": "markdown",
   "id": "2be5c73d",
   "metadata": {},
   "source": [
    "Choice of Reinforcement Learning Algorithm: <b>PPO</b>\n",
    "\n",
    "- In terms of Continuous Action Space, PPO is more suited for continuous action spaces, like controlling the movement of the cart on a horizontal axis. It <b style=\"color:blue;\">eases the task where actions are continuous</b>.\n",
    "- It is <b style=\"color:blue;\">more sample-efficient</b>. As exploration and learning from limited spaces are crucial in the pole cart balancing task, the efficiency from PPO can lead to faster convergence and better performance.\n",
    "- Since tasks like pole cart balancing requires precise and consistent control to maintain balance, PPO is designed to be <b style=\"color:blue\">more stable during training</b>.\n",
    "- PPO's adaptive step sizes and clipped surrogate objective makes it <b style=\"color:blue\">more adaptable to different environments</b>. The flexibility benefits the fine-tuning of the balancing behaviour of the cart in response to the changes in environment and task requirements.\n",
    "\n",
    "- While both Deep Q-Learning and PPO have its strengths and weakness, PPO's suitability for continuous action spaces, sample efficiency, adaptability and stability makes it a better choice for the pole cart balancing task when making a decision in terms of the Reinforcement Learning Algorithm used."
   ]
  },
  {
   "cell_type": "markdown",
   "id": "a198126b",
   "metadata": {},
   "source": [
    "<h1> Installing dependencies </h1>"
   ]
  },
  {
   "cell_type": "code",
   "execution_count": 1,
   "id": "bc27df65",
   "metadata": {
    "scrolled": false
   },
   "outputs": [
    {
     "name": "stdout",
     "output_type": "stream",
     "text": [
      "Requirement already satisfied: gymnasium in c:\\users\\shun jie\\anaconda3\\lib\\site-packages (0.29.1)\n",
      "Requirement already satisfied: numpy>=1.21.0 in c:\\users\\shun jie\\anaconda3\\lib\\site-packages (from gymnasium) (1.24.3)\n",
      "Requirement already satisfied: cloudpickle>=1.2.0 in c:\\users\\shun jie\\anaconda3\\lib\\site-packages (from gymnasium) (2.2.1)\n",
      "Requirement already satisfied: typing-extensions>=4.3.0 in c:\\users\\shun jie\\anaconda3\\lib\\site-packages (from gymnasium) (4.7.1)\n",
      "Requirement already satisfied: farama-notifications>=0.0.1 in c:\\users\\shun jie\\anaconda3\\lib\\site-packages (from gymnasium) (0.0.4)\n",
      "Requirement already satisfied: stable-baselines3[extra] in c:\\users\\shun jie\\anaconda3\\lib\\site-packages (2.2.1)\n",
      "Requirement already satisfied: gymnasium<0.30,>=0.28.1 in c:\\users\\shun jie\\anaconda3\\lib\\site-packages (from stable-baselines3[extra]) (0.29.1)\n",
      "Requirement already satisfied: numpy>=1.20 in c:\\users\\shun jie\\anaconda3\\lib\\site-packages (from stable-baselines3[extra]) (1.24.3)\n",
      "Requirement already satisfied: torch>=1.13 in c:\\users\\shun jie\\anaconda3\\lib\\site-packages (from stable-baselines3[extra]) (2.1.2)\n",
      "Requirement already satisfied: cloudpickle in c:\\users\\shun jie\\anaconda3\\lib\\site-packages (from stable-baselines3[extra]) (2.2.1)\n",
      "Requirement already satisfied: pandas in c:\\users\\shun jie\\anaconda3\\lib\\site-packages (from stable-baselines3[extra]) (2.0.3)\n",
      "Requirement already satisfied: matplotlib in c:\\users\\shun jie\\anaconda3\\lib\\site-packages (from stable-baselines3[extra]) (3.7.2)\n",
      "Requirement already satisfied: opencv-python in c:\\users\\shun jie\\anaconda3\\lib\\site-packages (from stable-baselines3[extra]) (4.9.0.80)\n",
      "Requirement already satisfied: pygame in c:\\users\\shun jie\\anaconda3\\lib\\site-packages (from stable-baselines3[extra]) (2.5.2)\n",
      "Requirement already satisfied: tensorboard>=2.9.1 in c:\\users\\shun jie\\anaconda3\\lib\\site-packages (from stable-baselines3[extra]) (2.15.1)\n",
      "Requirement already satisfied: psutil in c:\\users\\shun jie\\anaconda3\\lib\\site-packages (from stable-baselines3[extra]) (5.9.0)\n",
      "Requirement already satisfied: tqdm in c:\\users\\shun jie\\anaconda3\\lib\\site-packages (from stable-baselines3[extra]) (4.65.0)\n",
      "Requirement already satisfied: rich in c:\\users\\shun jie\\anaconda3\\lib\\site-packages (from stable-baselines3[extra]) (13.7.0)\n",
      "Requirement already satisfied: shimmy[atari]~=1.3.0 in c:\\users\\shun jie\\anaconda3\\lib\\site-packages (from stable-baselines3[extra]) (1.3.0)\n",
      "Requirement already satisfied: pillow in c:\\users\\shun jie\\anaconda3\\lib\\site-packages (from stable-baselines3[extra]) (9.4.0)\n",
      "Requirement already satisfied: autorom[accept-rom-license]~=0.6.1 in c:\\users\\shun jie\\anaconda3\\lib\\site-packages (from stable-baselines3[extra]) (0.6.1)\n",
      "Requirement already satisfied: click in c:\\users\\shun jie\\anaconda3\\lib\\site-packages (from autorom[accept-rom-license]~=0.6.1->stable-baselines3[extra]) (8.0.4)\n",
      "Requirement already satisfied: requests in c:\\users\\shun jie\\anaconda3\\lib\\site-packages (from autorom[accept-rom-license]~=0.6.1->stable-baselines3[extra]) (2.31.0)\n",
      "Requirement already satisfied: AutoROM.accept-rom-license in c:\\users\\shun jie\\anaconda3\\lib\\site-packages (from autorom[accept-rom-license]~=0.6.1->stable-baselines3[extra]) (0.6.1)\n",
      "Requirement already satisfied: typing-extensions>=4.3.0 in c:\\users\\shun jie\\anaconda3\\lib\\site-packages (from gymnasium<0.30,>=0.28.1->stable-baselines3[extra]) (4.7.1)\n",
      "Requirement already satisfied: farama-notifications>=0.0.1 in c:\\users\\shun jie\\anaconda3\\lib\\site-packages (from gymnasium<0.30,>=0.28.1->stable-baselines3[extra]) (0.0.4)\n",
      "Requirement already satisfied: ale-py~=0.8.1 in c:\\users\\shun jie\\anaconda3\\lib\\site-packages (from shimmy[atari]~=1.3.0->stable-baselines3[extra]) (0.8.1)\n",
      "Requirement already satisfied: absl-py>=0.4 in c:\\users\\shun jie\\anaconda3\\lib\\site-packages (from tensorboard>=2.9.1->stable-baselines3[extra]) (2.1.0)\n",
      "Requirement already satisfied: grpcio>=1.48.2 in c:\\users\\shun jie\\anaconda3\\lib\\site-packages (from tensorboard>=2.9.1->stable-baselines3[extra]) (1.60.0)\n",
      "Requirement already satisfied: google-auth<3,>=1.6.3 in c:\\users\\shun jie\\anaconda3\\lib\\site-packages (from tensorboard>=2.9.1->stable-baselines3[extra]) (2.27.0)\n",
      "Requirement already satisfied: google-auth-oauthlib<2,>=0.5 in c:\\users\\shun jie\\anaconda3\\lib\\site-packages (from tensorboard>=2.9.1->stable-baselines3[extra]) (1.2.0)\n",
      "Requirement already satisfied: markdown>=2.6.8 in c:\\users\\shun jie\\anaconda3\\lib\\site-packages (from tensorboard>=2.9.1->stable-baselines3[extra]) (3.4.1)\n",
      "Requirement already satisfied: protobuf<4.24,>=3.19.6 in c:\\users\\shun jie\\anaconda3\\lib\\site-packages (from tensorboard>=2.9.1->stable-baselines3[extra]) (4.23.4)\n",
      "Requirement already satisfied: setuptools>=41.0.0 in c:\\users\\shun jie\\anaconda3\\lib\\site-packages (from tensorboard>=2.9.1->stable-baselines3[extra]) (68.0.0)\n",
      "Requirement already satisfied: six>1.9 in c:\\users\\shun jie\\anaconda3\\lib\\site-packages (from tensorboard>=2.9.1->stable-baselines3[extra]) (1.16.0)\n",
      "Requirement already satisfied: tensorboard-data-server<0.8.0,>=0.7.0 in c:\\users\\shun jie\\anaconda3\\lib\\site-packages (from tensorboard>=2.9.1->stable-baselines3[extra]) (0.7.2)\n",
      "Requirement already satisfied: werkzeug>=1.0.1 in c:\\users\\shun jie\\anaconda3\\lib\\site-packages (from tensorboard>=2.9.1->stable-baselines3[extra]) (2.2.3)\n",
      "Requirement already satisfied: filelock in c:\\users\\shun jie\\anaconda3\\lib\\site-packages (from torch>=1.13->stable-baselines3[extra]) (3.9.0)\n",
      "Requirement already satisfied: sympy in c:\\users\\shun jie\\anaconda3\\lib\\site-packages (from torch>=1.13->stable-baselines3[extra]) (1.11.1)\n",
      "Requirement already satisfied: networkx in c:\\users\\shun jie\\anaconda3\\lib\\site-packages (from torch>=1.13->stable-baselines3[extra]) (2.8.8)\n",
      "Requirement already satisfied: jinja2 in c:\\users\\shun jie\\anaconda3\\lib\\site-packages (from torch>=1.13->stable-baselines3[extra]) (3.1.2)\n",
      "Requirement already satisfied: fsspec in c:\\users\\shun jie\\anaconda3\\lib\\site-packages (from torch>=1.13->stable-baselines3[extra]) (2023.4.0)\n",
      "Requirement already satisfied: contourpy>=1.0.1 in c:\\users\\shun jie\\anaconda3\\lib\\site-packages (from matplotlib->stable-baselines3[extra]) (1.0.5)\n",
      "Requirement already satisfied: cycler>=0.10 in c:\\users\\shun jie\\anaconda3\\lib\\site-packages (from matplotlib->stable-baselines3[extra]) (0.11.0)\n",
      "Requirement already satisfied: fonttools>=4.22.0 in c:\\users\\shun jie\\anaconda3\\lib\\site-packages (from matplotlib->stable-baselines3[extra]) (4.25.0)\n",
      "Requirement already satisfied: kiwisolver>=1.0.1 in c:\\users\\shun jie\\anaconda3\\lib\\site-packages (from matplotlib->stable-baselines3[extra]) (1.4.4)\n",
      "Requirement already satisfied: packaging>=20.0 in c:\\users\\shun jie\\anaconda3\\lib\\site-packages (from matplotlib->stable-baselines3[extra]) (23.1)\n",
      "Requirement already satisfied: pyparsing<3.1,>=2.3.1 in c:\\users\\shun jie\\anaconda3\\lib\\site-packages (from matplotlib->stable-baselines3[extra]) (3.0.9)\n",
      "Requirement already satisfied: python-dateutil>=2.7 in c:\\users\\shun jie\\anaconda3\\lib\\site-packages (from matplotlib->stable-baselines3[extra]) (2.8.2)\n",
      "Requirement already satisfied: pytz>=2020.1 in c:\\users\\shun jie\\anaconda3\\lib\\site-packages (from pandas->stable-baselines3[extra]) (2023.3.post1)\n",
      "Requirement already satisfied: tzdata>=2022.1 in c:\\users\\shun jie\\anaconda3\\lib\\site-packages (from pandas->stable-baselines3[extra]) (2023.3)\n",
      "Requirement already satisfied: markdown-it-py>=2.2.0 in c:\\users\\shun jie\\anaconda3\\lib\\site-packages (from rich->stable-baselines3[extra]) (2.2.0)\n",
      "Requirement already satisfied: pygments<3.0.0,>=2.13.0 in c:\\users\\shun jie\\anaconda3\\lib\\site-packages (from rich->stable-baselines3[extra]) (2.15.1)\n",
      "Requirement already satisfied: colorama in c:\\users\\shun jie\\anaconda3\\lib\\site-packages (from tqdm->stable-baselines3[extra]) (0.4.6)\n",
      "Requirement already satisfied: importlib-resources in c:\\users\\shun jie\\anaconda3\\lib\\site-packages (from ale-py~=0.8.1->shimmy[atari]~=1.3.0->stable-baselines3[extra]) (6.1.1)\n",
      "Requirement already satisfied: cachetools<6.0,>=2.0.0 in c:\\users\\shun jie\\anaconda3\\lib\\site-packages (from google-auth<3,>=1.6.3->tensorboard>=2.9.1->stable-baselines3[extra]) (5.3.2)\n",
      "Requirement already satisfied: pyasn1-modules>=0.2.1 in c:\\users\\shun jie\\anaconda3\\lib\\site-packages (from google-auth<3,>=1.6.3->tensorboard>=2.9.1->stable-baselines3[extra]) (0.2.8)\n",
      "Requirement already satisfied: rsa<5,>=3.1.4 in c:\\users\\shun jie\\anaconda3\\lib\\site-packages (from google-auth<3,>=1.6.3->tensorboard>=2.9.1->stable-baselines3[extra]) (4.9)\n",
      "Requirement already satisfied: requests-oauthlib>=0.7.0 in c:\\users\\shun jie\\anaconda3\\lib\\site-packages (from google-auth-oauthlib<2,>=0.5->tensorboard>=2.9.1->stable-baselines3[extra]) (1.3.1)\n",
      "Requirement already satisfied: mdurl~=0.1 in c:\\users\\shun jie\\anaconda3\\lib\\site-packages (from markdown-it-py>=2.2.0->rich->stable-baselines3[extra]) (0.1.0)\n",
      "Requirement already satisfied: charset-normalizer<4,>=2 in c:\\users\\shun jie\\anaconda3\\lib\\site-packages (from requests->autorom[accept-rom-license]~=0.6.1->stable-baselines3[extra]) (2.0.4)\n",
      "Requirement already satisfied: idna<4,>=2.5 in c:\\users\\shun jie\\anaconda3\\lib\\site-packages (from requests->autorom[accept-rom-license]~=0.6.1->stable-baselines3[extra]) (3.4)\n",
      "Requirement already satisfied: urllib3<3,>=1.21.1 in c:\\users\\shun jie\\anaconda3\\lib\\site-packages (from requests->autorom[accept-rom-license]~=0.6.1->stable-baselines3[extra]) (1.26.16)\n",
      "Requirement already satisfied: certifi>=2017.4.17 in c:\\users\\shun jie\\anaconda3\\lib\\site-packages (from requests->autorom[accept-rom-license]~=0.6.1->stable-baselines3[extra]) (2024.2.2)\n",
      "Requirement already satisfied: MarkupSafe>=2.1.1 in c:\\users\\shun jie\\anaconda3\\lib\\site-packages (from werkzeug>=1.0.1->tensorboard>=2.9.1->stable-baselines3[extra]) (2.1.1)\n",
      "Requirement already satisfied: mpmath>=0.19 in c:\\users\\shun jie\\anaconda3\\lib\\site-packages (from sympy->torch>=1.13->stable-baselines3[extra]) (1.3.0)\n",
      "Requirement already satisfied: pyasn1<0.5.0,>=0.4.6 in c:\\users\\shun jie\\anaconda3\\lib\\site-packages (from pyasn1-modules>=0.2.1->google-auth<3,>=1.6.3->tensorboard>=2.9.1->stable-baselines3[extra]) (0.4.8)\n",
      "Requirement already satisfied: oauthlib>=3.0.0 in c:\\users\\shun jie\\anaconda3\\lib\\site-packages (from requests-oauthlib>=0.7.0->google-auth-oauthlib<2,>=0.5->tensorboard>=2.9.1->stable-baselines3[extra]) (3.2.2)\n"
     ]
    },
    {
     "name": "stdout",
     "output_type": "stream",
     "text": [
      "Requirement already satisfied: moviepy in c:\\users\\shun jie\\anaconda3\\lib\\site-packages (1.0.3)\n",
      "Requirement already satisfied: decorator<5.0,>=4.0.2 in c:\\users\\shun jie\\anaconda3\\lib\\site-packages (from moviepy) (4.4.2)\n",
      "Requirement already satisfied: tqdm<5.0,>=4.11.2 in c:\\users\\shun jie\\anaconda3\\lib\\site-packages (from moviepy) (4.65.0)\n",
      "Requirement already satisfied: requests<3.0,>=2.8.1 in c:\\users\\shun jie\\anaconda3\\lib\\site-packages (from moviepy) (2.31.0)\n",
      "Requirement already satisfied: proglog<=1.0.0 in c:\\users\\shun jie\\anaconda3\\lib\\site-packages (from moviepy) (0.1.10)\n",
      "Requirement already satisfied: numpy>=1.17.3 in c:\\users\\shun jie\\anaconda3\\lib\\site-packages (from moviepy) (1.24.3)\n",
      "Requirement already satisfied: imageio<3.0,>=2.5 in c:\\users\\shun jie\\anaconda3\\lib\\site-packages (from moviepy) (2.26.0)\n",
      "Requirement already satisfied: imageio-ffmpeg>=0.2.0 in c:\\users\\shun jie\\anaconda3\\lib\\site-packages (from moviepy) (0.4.9)\n",
      "Requirement already satisfied: pillow>=8.3.2 in c:\\users\\shun jie\\anaconda3\\lib\\site-packages (from imageio<3.0,>=2.5->moviepy) (9.4.0)\n",
      "Requirement already satisfied: setuptools in c:\\users\\shun jie\\anaconda3\\lib\\site-packages (from imageio-ffmpeg>=0.2.0->moviepy) (68.0.0)\n",
      "Requirement already satisfied: charset-normalizer<4,>=2 in c:\\users\\shun jie\\anaconda3\\lib\\site-packages (from requests<3.0,>=2.8.1->moviepy) (2.0.4)\n",
      "Requirement already satisfied: idna<4,>=2.5 in c:\\users\\shun jie\\anaconda3\\lib\\site-packages (from requests<3.0,>=2.8.1->moviepy) (3.4)\n",
      "Requirement already satisfied: urllib3<3,>=1.21.1 in c:\\users\\shun jie\\anaconda3\\lib\\site-packages (from requests<3.0,>=2.8.1->moviepy) (1.26.16)\n",
      "Requirement already satisfied: certifi>=2017.4.17 in c:\\users\\shun jie\\anaconda3\\lib\\site-packages (from requests<3.0,>=2.8.1->moviepy) (2024.2.2)\n",
      "Requirement already satisfied: colorama in c:\\users\\shun jie\\anaconda3\\lib\\site-packages (from tqdm<5.0,>=4.11.2->moviepy) (0.4.6)\n"
     ]
    }
   ],
   "source": [
    "!pip install gymnasium\n",
    "!pip install stable-baselines3[extra]\n",
    "!pip install moviepy"
   ]
  },
  {
   "cell_type": "markdown",
   "id": "cf3b4f02",
   "metadata": {},
   "source": [
    "<h1> Creating the gym environment </h1>"
   ]
  },
  {
   "cell_type": "code",
   "execution_count": 26,
   "id": "1ff789ce",
   "metadata": {},
   "outputs": [],
   "source": [
    "import gymnasium as gym\n",
    "from stable_baselines3 import PPO"
   ]
  },
  {
   "cell_type": "markdown",
   "id": "2b731552",
   "metadata": {},
   "source": [
    "We use ```gym.make()``` to create a simulation of the environment.   \n",
    "The environment has <span style=\"color: blue; font-weight: bold;\">4 actions</span> that we can take and <span style=\"color: blue;font-weight: bold;\">2 distinct observations</span> for our agent.   \n",
    "\n",
    "Observation Space contains ```[base position, base velocity, pole angle, pole angular velocity]```.    \n",
    "Action Space contains ```[left, right]```."
   ]
  },
  {
   "cell_type": "code",
   "execution_count": 3,
   "id": "dcc3c1be",
   "metadata": {},
   "outputs": [
    {
     "name": "stdout",
     "output_type": "stream",
     "text": [
      "Observation Space : 4\n",
      "Action Space : 2\n"
     ]
    }
   ],
   "source": [
    "env = gym.make(\"CartPole-v1\", render_mode=\"rgb_array\")\n",
    "print(\"Observation Space : {}\".format(env.observation_space.shape[0]))\n",
    "print(\"Action Space : {}\".format(env.action_space.n))"
   ]
  },
  {
   "cell_type": "markdown",
   "id": "e8846e51",
   "metadata": {},
   "source": [
    "To test our envrionment, we will iterate through <b style=\"color:blue;\">10 episodes</b>.   \n",
    "Taking random actions i.e <code> [left, right] </code> we render the environment until the episode length reaches <code> 500 </code> or the pole angular velocity goes beyond the bounds of ``` ~ -0.418 rad (-24°) and ~ 0.418 rad (24°) ```.\n",
    "\n"
   ]
  },
  {
   "cell_type": "code",
   "execution_count": 4,
   "id": "5ebc0372",
   "metadata": {},
   "outputs": [
    {
     "name": "stdout",
     "output_type": "stream",
     "text": [
      "Episode 1 score : 40.0\n",
      "Episode 2 score : 12.0\n",
      "Episode 3 score : 52.0\n",
      "Episode 4 score : 12.0\n",
      "Episode 5 score : 39.0\n",
      "Episode 6 score : 40.0\n",
      "Episode 7 score : 25.0\n",
      "Episode 8 score : 13.0\n",
      "Episode 9 score : 9.0\n",
      "Episode 10 score : 26.0\n"
     ]
    }
   ],
   "source": [
    "episodes = 10\n",
    "\n",
    "terminated = False\n",
    "truncated = False\n",
    "env.reset()\n",
    "\n",
    "for episode in range (1, episodes + 1):\n",
    "    observation = env.reset()\n",
    "    score = 0\n",
    "    \n",
    "    while True:\n",
    "        env.render()\n",
    "        action = env.action_space.sample()\n",
    "        observation, reward, terminated, truncated, info = env.step(action)\n",
    "        score += reward;\n",
    "        if terminated or truncated:\n",
    "            break;\n",
    "     \n",
    "    print(\"Episode {} score : {}\".format(episode, score))\n",
    "env.close()"
   ]
  },
  {
   "cell_type": "markdown",
   "id": "0144789b",
   "metadata": {},
   "source": [
    "<h1> Building and Training the model </h1>\n",
    "<p>From the Stable Baselines library, we will be using the PPO (<b style=\"color:blue;\">Proximal Policy Optimization</b>) algorithm. MlpPolicy which refers to <b style=\"color:blue;\"> Multi-Layer Perceptron Policy </b> is used as it is a neural network policy that contains multiple layers that is suitable for discrete action spaces and is able to handle a wide range of environments.</p>"
   ]
  },
  {
   "cell_type": "code",
   "execution_count": 5,
   "id": "a63f9c80",
   "metadata": {},
   "outputs": [],
   "source": [
    "import os\n",
    "import numpy as np\n",
    "from stable_baselines3 import PPO"
   ]
  },
  {
   "cell_type": "code",
   "execution_count": 6,
   "id": "f13a93ac",
   "metadata": {
    "scrolled": false
   },
   "outputs": [
    {
     "name": "stdout",
     "output_type": "stream",
     "text": [
      "Using cpu device\n",
      "Wrapping the env with a `Monitor` wrapper\n",
      "Wrapping the env in a DummyVecEnv.\n"
     ]
    }
   ],
   "source": [
    "model = PPO(\"MlpPolicy\", env, verbose = 1)"
   ]
  },
  {
   "cell_type": "markdown",
   "id": "745033ea",
   "metadata": {},
   "source": [
    "To train the model, we will conduct training over 30,000 steps. From the output, we will examine <b style=\"color:blue;\">ep_len_mean</b>,<b style=\"color:blue\">ep_rew_mean</b> and <b style=\"color:blue\">explained_variance</b>. A higher value for <b style=\"color:blue\">ep_len_mean</b> indicates a more successful average duration of episodes. Similarly, a higher <b style=\"color:blue\">ep_rew_mean</b> signifies a better average reward for each episode. For <b style=\"color:blue\">explained_variance</b>, we aim for a higher value closer to 1, as it indicates more accurate predictions. We chose 30,000 steps because it yields the best learning value output after multiple training sessions, allowing the agent to interact more effectively with the environment."
   ]
  },
  {
   "cell_type": "code",
   "execution_count": 7,
   "id": "cd467a6f",
   "metadata": {
    "scrolled": true
   },
   "outputs": [
    {
     "name": "stdout",
     "output_type": "stream",
     "text": [
      "---------------------------------\n",
      "| rollout/           |          |\n",
      "|    ep_len_mean     | 21.3     |\n",
      "|    ep_rew_mean     | 21.3     |\n",
      "| time/              |          |\n",
      "|    fps             | 820      |\n",
      "|    iterations      | 1        |\n",
      "|    time_elapsed    | 2        |\n",
      "|    total_timesteps | 2048     |\n",
      "---------------------------------\n",
      "-----------------------------------------\n",
      "| rollout/                |             |\n",
      "|    ep_len_mean          | 26.6        |\n",
      "|    ep_rew_mean          | 26.6        |\n",
      "| time/                   |             |\n",
      "|    fps                  | 623         |\n",
      "|    iterations           | 2           |\n",
      "|    time_elapsed         | 6           |\n",
      "|    total_timesteps      | 4096        |\n",
      "| train/                  |             |\n",
      "|    approx_kl            | 0.008008805 |\n",
      "|    clip_fraction        | 0.0816      |\n",
      "|    clip_range           | 0.2         |\n",
      "|    entropy_loss         | -0.687      |\n",
      "|    explained_variance   | -0.00535    |\n",
      "|    learning_rate        | 0.0003      |\n",
      "|    loss                 | 6.87        |\n",
      "|    n_updates            | 10          |\n",
      "|    policy_gradient_loss | -0.0132     |\n",
      "|    value_loss           | 47.7        |\n",
      "-----------------------------------------\n",
      "-----------------------------------------\n",
      "| rollout/                |             |\n",
      "|    ep_len_mean          | 34          |\n",
      "|    ep_rew_mean          | 34          |\n",
      "| time/                   |             |\n",
      "|    fps                  | 570         |\n",
      "|    iterations           | 3           |\n",
      "|    time_elapsed         | 10          |\n",
      "|    total_timesteps      | 6144        |\n",
      "| train/                  |             |\n",
      "|    approx_kl            | 0.008136723 |\n",
      "|    clip_fraction        | 0.0528      |\n",
      "|    clip_range           | 0.2         |\n",
      "|    entropy_loss         | -0.665      |\n",
      "|    explained_variance   | 0.0868      |\n",
      "|    learning_rate        | 0.0003      |\n",
      "|    loss                 | 14.6        |\n",
      "|    n_updates            | 20          |\n",
      "|    policy_gradient_loss | -0.0152     |\n",
      "|    value_loss           | 36.3        |\n",
      "-----------------------------------------\n",
      "-----------------------------------------\n",
      "| rollout/                |             |\n",
      "|    ep_len_mean          | 45.5        |\n",
      "|    ep_rew_mean          | 45.5        |\n",
      "| time/                   |             |\n",
      "|    fps                  | 537         |\n",
      "|    iterations           | 4           |\n",
      "|    time_elapsed         | 15          |\n",
      "|    total_timesteps      | 8192        |\n",
      "| train/                  |             |\n",
      "|    approx_kl            | 0.010521878 |\n",
      "|    clip_fraction        | 0.109       |\n",
      "|    clip_range           | 0.2         |\n",
      "|    entropy_loss         | -0.628      |\n",
      "|    explained_variance   | 0.298       |\n",
      "|    learning_rate        | 0.0003      |\n",
      "|    loss                 | 18.3        |\n",
      "|    n_updates            | 30          |\n",
      "|    policy_gradient_loss | -0.0224     |\n",
      "|    value_loss           | 46.3        |\n",
      "-----------------------------------------\n",
      "------------------------------------------\n",
      "| rollout/                |              |\n",
      "|    ep_len_mean          | 59           |\n",
      "|    ep_rew_mean          | 59           |\n",
      "| time/                   |              |\n",
      "|    fps                  | 530          |\n",
      "|    iterations           | 5            |\n",
      "|    time_elapsed         | 19           |\n",
      "|    total_timesteps      | 10240        |\n",
      "| train/                  |              |\n",
      "|    approx_kl            | 0.0092072785 |\n",
      "|    clip_fraction        | 0.0747       |\n",
      "|    clip_range           | 0.2          |\n",
      "|    entropy_loss         | -0.602       |\n",
      "|    explained_variance   | 0.284        |\n",
      "|    learning_rate        | 0.0003       |\n",
      "|    loss                 | 22.6         |\n",
      "|    n_updates            | 40           |\n",
      "|    policy_gradient_loss | -0.0172      |\n",
      "|    value_loss           | 61.7         |\n",
      "------------------------------------------\n",
      "-----------------------------------------\n",
      "| rollout/                |             |\n",
      "|    ep_len_mean          | 73          |\n",
      "|    ep_rew_mean          | 73          |\n",
      "| time/                   |             |\n",
      "|    fps                  | 513         |\n",
      "|    iterations           | 6           |\n",
      "|    time_elapsed         | 23          |\n",
      "|    total_timesteps      | 12288       |\n",
      "| train/                  |             |\n",
      "|    approx_kl            | 0.010707056 |\n",
      "|    clip_fraction        | 0.0729      |\n",
      "|    clip_range           | 0.2         |\n",
      "|    entropy_loss         | -0.59       |\n",
      "|    explained_variance   | 0.465       |\n",
      "|    learning_rate        | 0.0003      |\n",
      "|    loss                 | 9.31        |\n",
      "|    n_updates            | 50          |\n",
      "|    policy_gradient_loss | -0.0143     |\n",
      "|    value_loss           | 55.4        |\n",
      "-----------------------------------------\n",
      "-----------------------------------------\n",
      "| rollout/                |             |\n",
      "|    ep_len_mean          | 91.8        |\n",
      "|    ep_rew_mean          | 91.8        |\n",
      "| time/                   |             |\n",
      "|    fps                  | 462         |\n",
      "|    iterations           | 7           |\n",
      "|    time_elapsed         | 31          |\n",
      "|    total_timesteps      | 14336       |\n",
      "| train/                  |             |\n",
      "|    approx_kl            | 0.004845351 |\n",
      "|    clip_fraction        | 0.0568      |\n",
      "|    clip_range           | 0.2         |\n",
      "|    entropy_loss         | -0.591      |\n",
      "|    explained_variance   | 0.57        |\n",
      "|    learning_rate        | 0.0003      |\n",
      "|    loss                 | 10.9        |\n",
      "|    n_updates            | 60          |\n",
      "|    policy_gradient_loss | -0.011      |\n",
      "|    value_loss           | 46.5        |\n",
      "-----------------------------------------\n",
      "------------------------------------------\n",
      "| rollout/                |              |\n",
      "|    ep_len_mean          | 109          |\n",
      "|    ep_rew_mean          | 109          |\n",
      "| time/                   |              |\n",
      "|    fps                  | 439          |\n",
      "|    iterations           | 8            |\n",
      "|    time_elapsed         | 37           |\n",
      "|    total_timesteps      | 16384        |\n",
      "| train/                  |              |\n",
      "|    approx_kl            | 0.0054439004 |\n",
      "|    clip_fraction        | 0.0275       |\n",
      "|    clip_range           | 0.2          |\n",
      "|    entropy_loss         | -0.572       |\n",
      "|    explained_variance   | 0.632        |\n",
      "|    learning_rate        | 0.0003       |\n",
      "|    loss                 | 9.45         |\n",
      "|    n_updates            | 70           |\n",
      "|    policy_gradient_loss | -0.00702     |\n",
      "|    value_loss           | 53           |\n",
      "------------------------------------------\n",
      "------------------------------------------\n",
      "| rollout/                |              |\n",
      "|    ep_len_mean          | 129          |\n",
      "|    ep_rew_mean          | 129          |\n",
      "| time/                   |              |\n",
      "|    fps                  | 422          |\n",
      "|    iterations           | 9            |\n",
      "|    time_elapsed         | 43           |\n",
      "|    total_timesteps      | 18432        |\n",
      "| train/                  |              |\n",
      "|    approx_kl            | 0.0026004836 |\n",
      "|    clip_fraction        | 0.0126       |\n",
      "|    clip_range           | 0.2          |\n",
      "|    entropy_loss         | -0.575       |\n",
      "|    explained_variance   | 0.429        |\n",
      "|    learning_rate        | 0.0003       |\n",
      "|    loss                 | 29.7         |\n",
      "|    n_updates            | 80           |\n",
      "|    policy_gradient_loss | -0.00387     |\n",
      "|    value_loss           | 63.8         |\n",
      "------------------------------------------\n",
      "------------------------------------------\n",
      "| rollout/                |              |\n",
      "|    ep_len_mean          | 147          |\n",
      "|    ep_rew_mean          | 147          |\n",
      "| time/                   |              |\n",
      "|    fps                  | 406          |\n",
      "|    iterations           | 10           |\n",
      "|    time_elapsed         | 50           |\n",
      "|    total_timesteps      | 20480        |\n",
      "| train/                  |              |\n",
      "|    approx_kl            | 0.0049720127 |\n",
      "|    clip_fraction        | 0.0577       |\n",
      "|    clip_range           | 0.2          |\n",
      "|    entropy_loss         | -0.57        |\n",
      "|    explained_variance   | 0.832        |\n",
      "|    learning_rate        | 0.0003       |\n",
      "|    loss                 | 5.16         |\n",
      "|    n_updates            | 90           |\n",
      "|    policy_gradient_loss | -0.00668     |\n",
      "|    value_loss           | 29.9         |\n",
      "------------------------------------------\n"
     ]
    },
    {
     "name": "stdout",
     "output_type": "stream",
     "text": [
      "------------------------------------------\n",
      "| rollout/                |              |\n",
      "|    ep_len_mean          | 166          |\n",
      "|    ep_rew_mean          | 166          |\n",
      "| time/                   |              |\n",
      "|    fps                  | 392          |\n",
      "|    iterations           | 11           |\n",
      "|    time_elapsed         | 57           |\n",
      "|    total_timesteps      | 22528        |\n",
      "| train/                  |              |\n",
      "|    approx_kl            | 0.0060865255 |\n",
      "|    clip_fraction        | 0.0488       |\n",
      "|    clip_range           | 0.2          |\n",
      "|    entropy_loss         | -0.559       |\n",
      "|    explained_variance   | 0.502        |\n",
      "|    learning_rate        | 0.0003       |\n",
      "|    loss                 | 2.11         |\n",
      "|    n_updates            | 100          |\n",
      "|    policy_gradient_loss | -0.00578     |\n",
      "|    value_loss           | 43.8         |\n",
      "------------------------------------------\n",
      "------------------------------------------\n",
      "| rollout/                |              |\n",
      "|    ep_len_mean          | 181          |\n",
      "|    ep_rew_mean          | 181          |\n",
      "| time/                   |              |\n",
      "|    fps                  | 383          |\n",
      "|    iterations           | 12           |\n",
      "|    time_elapsed         | 64           |\n",
      "|    total_timesteps      | 24576        |\n",
      "| train/                  |              |\n",
      "|    approx_kl            | 0.0031296704 |\n",
      "|    clip_fraction        | 0.0397       |\n",
      "|    clip_range           | 0.2          |\n",
      "|    entropy_loss         | -0.574       |\n",
      "|    explained_variance   | 0.791        |\n",
      "|    learning_rate        | 0.0003       |\n",
      "|    loss                 | 1.68         |\n",
      "|    n_updates            | 110          |\n",
      "|    policy_gradient_loss | -0.00585     |\n",
      "|    value_loss           | 28           |\n",
      "------------------------------------------\n",
      "------------------------------------------\n",
      "| rollout/                |              |\n",
      "|    ep_len_mean          | 201          |\n",
      "|    ep_rew_mean          | 201          |\n",
      "| time/                   |              |\n",
      "|    fps                  | 374          |\n",
      "|    iterations           | 13           |\n",
      "|    time_elapsed         | 71           |\n",
      "|    total_timesteps      | 26624        |\n",
      "| train/                  |              |\n",
      "|    approx_kl            | 0.0033759838 |\n",
      "|    clip_fraction        | 0.0163       |\n",
      "|    clip_range           | 0.2          |\n",
      "|    entropy_loss         | -0.553       |\n",
      "|    explained_variance   | 0.0192       |\n",
      "|    learning_rate        | 0.0003       |\n",
      "|    loss                 | 0.49         |\n",
      "|    n_updates            | 120          |\n",
      "|    policy_gradient_loss | -0.0015      |\n",
      "|    value_loss           | 25.5         |\n",
      "------------------------------------------\n",
      "------------------------------------------\n",
      "| rollout/                |              |\n",
      "|    ep_len_mean          | 221          |\n",
      "|    ep_rew_mean          | 221          |\n",
      "| time/                   |              |\n",
      "|    fps                  | 369          |\n",
      "|    iterations           | 14           |\n",
      "|    time_elapsed         | 77           |\n",
      "|    total_timesteps      | 28672        |\n",
      "| train/                  |              |\n",
      "|    approx_kl            | 0.0046964027 |\n",
      "|    clip_fraction        | 0.0244       |\n",
      "|    clip_range           | 0.2          |\n",
      "|    entropy_loss         | -0.55        |\n",
      "|    explained_variance   | 0.0674       |\n",
      "|    learning_rate        | 0.0003       |\n",
      "|    loss                 | 5.8          |\n",
      "|    n_updates            | 130          |\n",
      "|    policy_gradient_loss | -0.00306     |\n",
      "|    value_loss           | 24.6         |\n",
      "------------------------------------------\n",
      "-----------------------------------------\n",
      "| rollout/                |             |\n",
      "|    ep_len_mean          | 236         |\n",
      "|    ep_rew_mean          | 236         |\n",
      "| time/                   |             |\n",
      "|    fps                  | 363         |\n",
      "|    iterations           | 15          |\n",
      "|    time_elapsed         | 84          |\n",
      "|    total_timesteps      | 30720       |\n",
      "| train/                  |             |\n",
      "|    approx_kl            | 0.004686514 |\n",
      "|    clip_fraction        | 0.0418      |\n",
      "|    clip_range           | 0.2         |\n",
      "|    entropy_loss         | -0.573      |\n",
      "|    explained_variance   | 0.974       |\n",
      "|    learning_rate        | 0.0003      |\n",
      "|    loss                 | 0.531       |\n",
      "|    n_updates            | 140         |\n",
      "|    policy_gradient_loss | -0.00678    |\n",
      "|    value_loss           | 4.97        |\n",
      "-----------------------------------------\n"
     ]
    },
    {
     "data": {
      "text/plain": [
       "<stable_baselines3.ppo.ppo.PPO at 0x1e5cf723d50>"
      ]
     },
     "execution_count": 7,
     "metadata": {},
     "output_type": "execute_result"
    }
   ],
   "source": [
    "# Train the model\n",
    "model.learn(total_timesteps=30000)"
   ]
  },
  {
   "cell_type": "code",
   "execution_count": 8,
   "id": "2bd0cd41",
   "metadata": {},
   "outputs": [
    {
     "name": "stderr",
     "output_type": "stream",
     "text": [
      "C:\\Users\\Shun Jie\\anaconda3\\Lib\\site-packages\\stable_baselines3\\common\\save_util.py:283: UserWarning: Path 'Saved Models' does not exist. Will create it.\n",
      "  warnings.warn(f\"Path '{path.parent}' does not exist. Will create it.\")\n"
     ]
    }
   ],
   "source": [
    "PPO_Path = os.path.join(\"Saved Models\", \"PPO\")\n",
    "model.save(PPO_Path)"
   ]
  },
  {
   "cell_type": "code",
   "execution_count": 9,
   "id": "77b25d01",
   "metadata": {},
   "outputs": [
    {
     "name": "stdout",
     "output_type": "stream",
     "text": [
      "Info:  [{'episode': {'r': 324.0, 'l': 324, 't': 93.842579}, 'TimeLimit.truncated': False, 'terminal_observation': array([-0.40308   ,  0.4187238 , -0.21319935, -0.5803999 ], dtype=float32)}]\n",
      "Info:  [{'episode': {'r': 420.0, 'l': 420, 't': 99.282306}, 'TimeLimit.truncated': False, 'terminal_observation': array([-0.0766983 ,  0.02353727, -0.20951268,  0.05442415], dtype=float32)}]\n",
      "Info:  [{'episode': {'r': 500.0, 'l': 500, 't': 107.122182}, 'TimeLimit.truncated': True, 'terminal_observation': array([-0.36067945,  0.0008583 , -0.00427235,  0.1411533 ], dtype=float32)}]\n",
      "Info:  [{'episode': {'r': 285.0, 'l': 285, 't': 110.982241}, 'TimeLimit.truncated': False, 'terminal_observation': array([-1.3751336 , -0.8817573 ,  0.21879362,  0.51294774], dtype=float32)}]\n",
      "Info:  [{'episode': {'r': 500.0, 'l': 500, 't': 119.337283}, 'TimeLimit.truncated': True, 'terminal_observation': array([-0.3871547 ,  0.02230451, -0.12315478,  0.03732842], dtype=float32)}]\n",
      "Info:  [{'episode': {'r': 500.0, 'l': 500, 't': 126.924659}, 'TimeLimit.truncated': True, 'terminal_observation': array([-0.83484083, -0.03963085, -0.01490025,  0.33906326], dtype=float32)}]\n",
      "Info:  [{'episode': {'r': 500.0, 'l': 500, 't': 135.05199}, 'TimeLimit.truncated': True, 'terminal_observation': array([-0.31436145, -0.04908065, -0.13731752,  0.11079039], dtype=float32)}]\n",
      "Info:  [{'episode': {'r': 500.0, 'l': 500, 't': 142.824742}, 'TimeLimit.truncated': True, 'terminal_observation': array([-2.0167508 , -0.7607351 , -0.07427843,  0.30095908], dtype=float32)}]\n",
      "Info:  [{'episode': {'r': 486.0, 'l': 486, 't': 150.798576}, 'TimeLimit.truncated': False, 'terminal_observation': array([-0.9790174 , -0.30983198, -0.21436572, -0.07988253], dtype=float32)}]\n",
      "Info:  [{'episode': {'r': 309.0, 'l': 309, 't': 155.616079}, 'TimeLimit.truncated': False, 'terminal_observation': array([-0.31111625,  0.9312387 , -0.21220954, -0.99509966], dtype=float32)}]\n"
     ]
    }
   ],
   "source": [
    "episodes = 10\n",
    "vec_env = model.get_env()\n",
    "\n",
    "for episode in range(1, episodes+1):\n",
    "    obs = vec_env.reset()\n",
    "    while True:\n",
    "        action, _ = model.predict(obs)\n",
    "        obs, reward, done, info = vec_env.step(action)\n",
    "        vec_env.render(\"human\")\n",
    "        if done:\n",
    "            print(\"Info: \", info)\n",
    "            break;\n",
    "\n",
    "#Hack to close window\n",
    "import cv2\n",
    "cv2.destroyAllWindows()"
   ]
  },
  {
   "cell_type": "markdown",
   "id": "5e7d7600",
   "metadata": {},
   "source": [
    "<h1> Task 1 : Develop an RL agent </h1>\n",
    "<b> For this task, we have to demonstrate the correctness of the implementation through sampling a random state from the environment together with an agent input and output a chosen action on whether it is 0(left) or 1(right). </b>\n",
    "<br/>"
   ]
  },
  {
   "cell_type": "code",
   "execution_count": 10,
   "id": "bc04d101",
   "metadata": {},
   "outputs": [
    {
     "name": "stdout",
     "output_type": "stream",
     "text": [
      "Wrapping the env with a `Monitor` wrapper\n",
      "Wrapping the env in a DummyVecEnv.\n"
     ]
    }
   ],
   "source": [
    "import os\n",
    "import gymnasium as gym\n",
    "from stable_baselines3 import PPO\n",
    "\n",
    "env = gym.make(\"CartPole-v1\", render_mode=\"rgb_array\")\n",
    "model = PPO.load(\"Saved Models\\PPO\", env=env)"
   ]
  },
  {
   "cell_type": "markdown",
   "id": "b5cb9328",
   "metadata": {},
   "source": [
    "<p> A new gym environment is created and rendered with rgb_array to visualize the environment. We will use our pre-trained PPO model. A vectorized environment is obtained from the model, enabling the execution of multiple environments simultanteously, each operating independently. This approach significantly accelerates the training process.<br/><br/>\n",
    "After acquiring the environment, we reset the vectorized environment to a random observation state. Using this observation, the PPO model predicts the first action based on the loaded model. The output displays the observation and the predicted action. In this case, applying a force to the left (0) is intended to balance the pole, as determined by the observation.</p>"
   ]
  },
  {
   "cell_type": "code",
   "execution_count": 11,
   "id": "514183e9",
   "metadata": {},
   "outputs": [
    {
     "name": "stdout",
     "output_type": "stream",
     "text": [
      "Observation : [[0.0208578  0.02701198 0.0384021  0.02283757]]\n",
      "Action : [1]\n"
     ]
    }
   ],
   "source": [
    "vec_env = model.get_env()\n",
    "obs = vec_env.reset()\n",
    "action = model.predict(obs)[0]\n",
    "\n",
    "print(\"Observation : {}\".format(obs))\n",
    "print(\"Action : {}\".format(action))"
   ]
  },
  {
   "cell_type": "markdown",
   "id": "141d393e",
   "metadata": {},
   "source": [
    "<h1> Task 2 : Demonstrate the effectiveness of the RL agent </h1>\n",
    "<br/>\n",
    "<b>For this task, we have to run for 100 episodes, resetting each environment at the beginning and plot the cummulative reward against all episodes. Print the average reward over the 100 episodes.</b>\n",
    "<br/><br/>\n",
    "Using the vectorized environment, we will iterate through 100 episodes. For each episode, the trained learning model will predict an action based on a specific observation. Taking the predicted action for each step, the environment returns four values: <code> new observation </code> , <code> obtained reward </code>, an indicator of whether the episode is completed, and any additional information. A reward will be given after each step and at the end of each episode, and we append that into a list."
   ]
  },
  {
   "cell_type": "code",
   "execution_count": 12,
   "id": "423f6e97",
   "metadata": {},
   "outputs": [
    {
     "name": "stdout",
     "output_type": "stream",
     "text": [
      "Episode: 1 ;   Score: [392.]\n",
      "Episode: 2 ;   Score: [500.]\n",
      "Episode: 3 ;   Score: [186.]\n",
      "Episode: 4 ;   Score: [500.]\n",
      "Episode: 5 ;   Score: [500.]\n",
      "Episode: 6 ;   Score: [262.]\n",
      "Episode: 7 ;   Score: [500.]\n",
      "Episode: 8 ;   Score: [500.]\n",
      "Episode: 9 ;   Score: [500.]\n",
      "Episode: 10 ;   Score: [500.]\n",
      "Episode: 11 ;   Score: [500.]\n",
      "Episode: 12 ;   Score: [126.]\n",
      "Episode: 13 ;   Score: [500.]\n",
      "Episode: 14 ;   Score: [342.]\n",
      "Episode: 15 ;   Score: [436.]\n",
      "Episode: 16 ;   Score: [500.]\n",
      "Episode: 17 ;   Score: [500.]\n",
      "Episode: 18 ;   Score: [500.]\n",
      "Episode: 19 ;   Score: [500.]\n",
      "Episode: 20 ;   Score: [328.]\n",
      "Episode: 21 ;   Score: [500.]\n",
      "Episode: 22 ;   Score: [431.]\n",
      "Episode: 23 ;   Score: [500.]\n",
      "Episode: 24 ;   Score: [496.]\n",
      "Episode: 25 ;   Score: [500.]\n",
      "Episode: 26 ;   Score: [477.]\n",
      "Episode: 27 ;   Score: [63.]\n",
      "Episode: 28 ;   Score: [422.]\n",
      "Episode: 29 ;   Score: [500.]\n",
      "Episode: 30 ;   Score: [500.]\n",
      "Episode: 31 ;   Score: [146.]\n",
      "Episode: 32 ;   Score: [500.]\n",
      "Episode: 33 ;   Score: [500.]\n",
      "Episode: 34 ;   Score: [429.]\n",
      "Episode: 35 ;   Score: [500.]\n",
      "Episode: 36 ;   Score: [500.]\n",
      "Episode: 37 ;   Score: [500.]\n",
      "Episode: 38 ;   Score: [500.]\n",
      "Episode: 39 ;   Score: [500.]\n",
      "Episode: 40 ;   Score: [500.]\n",
      "Episode: 41 ;   Score: [500.]\n",
      "Episode: 42 ;   Score: [500.]\n",
      "Episode: 43 ;   Score: [500.]\n",
      "Episode: 44 ;   Score: [108.]\n",
      "Episode: 45 ;   Score: [167.]\n",
      "Episode: 46 ;   Score: [500.]\n",
      "Episode: 47 ;   Score: [500.]\n",
      "Episode: 48 ;   Score: [500.]\n",
      "Episode: 49 ;   Score: [202.]\n",
      "Episode: 50 ;   Score: [500.]\n",
      "Episode: 51 ;   Score: [500.]\n",
      "Episode: 52 ;   Score: [500.]\n",
      "Episode: 53 ;   Score: [500.]\n",
      "Episode: 54 ;   Score: [500.]\n",
      "Episode: 55 ;   Score: [74.]\n",
      "Episode: 56 ;   Score: [238.]\n",
      "Episode: 57 ;   Score: [500.]\n",
      "Episode: 58 ;   Score: [500.]\n",
      "Episode: 59 ;   Score: [500.]\n",
      "Episode: 60 ;   Score: [440.]\n",
      "Episode: 61 ;   Score: [500.]\n",
      "Episode: 62 ;   Score: [402.]\n",
      "Episode: 63 ;   Score: [500.]\n",
      "Episode: 64 ;   Score: [162.]\n",
      "Episode: 65 ;   Score: [165.]\n",
      "Episode: 66 ;   Score: [500.]\n",
      "Episode: 67 ;   Score: [187.]\n",
      "Episode: 68 ;   Score: [317.]\n",
      "Episode: 69 ;   Score: [500.]\n",
      "Episode: 70 ;   Score: [500.]\n",
      "Episode: 71 ;   Score: [500.]\n",
      "Episode: 72 ;   Score: [272.]\n",
      "Episode: 73 ;   Score: [326.]\n",
      "Episode: 74 ;   Score: [194.]\n",
      "Episode: 75 ;   Score: [500.]\n",
      "Episode: 76 ;   Score: [500.]\n",
      "Episode: 77 ;   Score: [446.]\n",
      "Episode: 78 ;   Score: [500.]\n",
      "Episode: 79 ;   Score: [500.]\n",
      "Episode: 80 ;   Score: [500.]\n",
      "Episode: 81 ;   Score: [500.]\n",
      "Episode: 82 ;   Score: [121.]\n",
      "Episode: 83 ;   Score: [500.]\n",
      "Episode: 84 ;   Score: [493.]\n",
      "Episode: 85 ;   Score: [500.]\n",
      "Episode: 86 ;   Score: [500.]\n",
      "Episode: 87 ;   Score: [115.]\n",
      "Episode: 88 ;   Score: [500.]\n",
      "Episode: 89 ;   Score: [500.]\n",
      "Episode: 90 ;   Score: [500.]\n",
      "Episode: 91 ;   Score: [500.]\n",
      "Episode: 92 ;   Score: [171.]\n",
      "Episode: 93 ;   Score: [500.]\n",
      "Episode: 94 ;   Score: [107.]\n",
      "Episode: 95 ;   Score: [500.]\n",
      "Episode: 96 ;   Score: [500.]\n",
      "Episode: 97 ;   Score: [500.]\n",
      "Episode: 98 ;   Score: [413.]\n",
      "Episode: 99 ;   Score: [500.]\n",
      "Episode: 100 ;   Score: [302.]\n",
      "[array([392.], dtype=float32), array([500.], dtype=float32), array([186.], dtype=float32), array([500.], dtype=float32), array([500.], dtype=float32), array([262.], dtype=float32), array([500.], dtype=float32), array([500.], dtype=float32), array([500.], dtype=float32), array([500.], dtype=float32), array([500.], dtype=float32), array([126.], dtype=float32), array([500.], dtype=float32), array([342.], dtype=float32), array([436.], dtype=float32), array([500.], dtype=float32), array([500.], dtype=float32), array([500.], dtype=float32), array([500.], dtype=float32), array([328.], dtype=float32), array([500.], dtype=float32), array([431.], dtype=float32), array([500.], dtype=float32), array([496.], dtype=float32), array([500.], dtype=float32), array([477.], dtype=float32), array([63.], dtype=float32), array([422.], dtype=float32), array([500.], dtype=float32), array([500.], dtype=float32), array([146.], dtype=float32), array([500.], dtype=float32), array([500.], dtype=float32), array([429.], dtype=float32), array([500.], dtype=float32), array([500.], dtype=float32), array([500.], dtype=float32), array([500.], dtype=float32), array([500.], dtype=float32), array([500.], dtype=float32), array([500.], dtype=float32), array([500.], dtype=float32), array([500.], dtype=float32), array([108.], dtype=float32), array([167.], dtype=float32), array([500.], dtype=float32), array([500.], dtype=float32), array([500.], dtype=float32), array([202.], dtype=float32), array([500.], dtype=float32), array([500.], dtype=float32), array([500.], dtype=float32), array([500.], dtype=float32), array([500.], dtype=float32), array([74.], dtype=float32), array([238.], dtype=float32), array([500.], dtype=float32), array([500.], dtype=float32), array([500.], dtype=float32), array([440.], dtype=float32), array([500.], dtype=float32), array([402.], dtype=float32), array([500.], dtype=float32), array([162.], dtype=float32), array([165.], dtype=float32), array([500.], dtype=float32), array([187.], dtype=float32), array([317.], dtype=float32), array([500.], dtype=float32), array([500.], dtype=float32), array([500.], dtype=float32), array([272.], dtype=float32), array([326.], dtype=float32), array([194.], dtype=float32), array([500.], dtype=float32), array([500.], dtype=float32), array([446.], dtype=float32), array([500.], dtype=float32), array([500.], dtype=float32), array([500.], dtype=float32), array([500.], dtype=float32), array([121.], dtype=float32), array([500.], dtype=float32), array([493.], dtype=float32), array([500.], dtype=float32), array([500.], dtype=float32), array([115.], dtype=float32), array([500.], dtype=float32), array([500.], dtype=float32), array([500.], dtype=float32), array([500.], dtype=float32), array([171.], dtype=float32), array([500.], dtype=float32), array([107.], dtype=float32), array([500.], dtype=float32), array([500.], dtype=float32), array([500.], dtype=float32), array([413.], dtype=float32), array([500.], dtype=float32), array([302.], dtype=float32)]\n"
     ]
    }
   ],
   "source": [
    "episodes = 100\n",
    "vec_env = model.get_env()\n",
    "cumilative_rewards = []\n",
    "\n",
    "for episode in range(1, episodes + 1):\n",
    "    score = 0\n",
    "    obs = vec_env.reset()\n",
    "    \n",
    "    while True:\n",
    "        action, _ = model.predict(obs)\n",
    "        obs, reward, done, info = vec_env.step(action)\n",
    "        score += reward\n",
    "        \n",
    "        if done:\n",
    "            break;\n",
    "    print('Episode:', episode, ';   Score:', score)\n",
    "    cumilative_rewards.append(score)\n",
    "\n",
    "print(cumilative_rewards)\n",
    "\n",
    "#Hack to close window\n",
    "import cv2\n",
    "cv2.destroyAllWindows()"
   ]
  },
  {
   "cell_type": "markdown",
   "id": "beef050f",
   "metadata": {},
   "source": [
    "<h3> Plotting our rewards </h3>"
   ]
  },
  {
   "cell_type": "code",
   "execution_count": 13,
   "id": "593b49ef",
   "metadata": {},
   "outputs": [],
   "source": [
    "import numpy as np\n",
    "import matplotlib.pyplot as plt\n",
    "\n",
    "import os    \n",
    "os.environ['KMP_DUPLICATE_LIB_OK'] = 'True'"
   ]
  },
  {
   "cell_type": "code",
   "execution_count": 14,
   "id": "4b27574f",
   "metadata": {},
   "outputs": [
    {
     "data": {
      "image/png": "[encoded data removed]",
      "text/plain": [
       "<Figure size 640x480 with 1 Axes>"
      ]
     },
     "metadata": {},
     "output_type": "display_data"
    }
   ],
   "source": [
    "# Plot the cumulative rewards\n",
    "plt.plot(range(1, episodes + 1), cumilative_rewards)\n",
    "plt.xlabel('Episode')\n",
    "plt.ylabel('Cumulative Reward')\n",
    "plt.title('Cumulative Rewards Over Episodes')\n",
    "plt.show()"
   ]
  },
  {
   "cell_type": "code",
   "execution_count": 15,
   "id": "49b8dcc2",
   "metadata": {},
   "outputs": [
    {
     "name": "stdout",
     "output_type": "stream",
     "text": [
      "Average cummulative reward:  [419.58]\n"
     ]
    }
   ],
   "source": [
    "mean = sum(cumilative_rewards) / len(cumilative_rewards)\n",
    "print(\"Average cummulative reward: \", mean)"
   ]
  },
  {
   "cell_type": "markdown",
   "id": "02c27bca",
   "metadata": {},
   "source": [
    "From the results in the cummulative graph, we could see that for every episode, the rewards are consistent with an average value of around <code> 490-500 </code>. This indicated that the RL agent has successfully learned the PPO to effectively balance the pole on the cart."
   ]
  },
  {
   "cell_type": "markdown",
   "id": "0a1c8b38",
   "metadata": {},
   "source": [
    "<h1> Task 3: Render an episode played by RL agent </h1>"
   ]
  },
  {
   "cell_type": "code",
   "execution_count": 43,
   "id": "3a98dd11",
   "metadata": {},
   "outputs": [],
   "source": [
    "from IPython.display import HTML\n",
    "from stable_baselines3.common.vec_env import VecVideoRecorder, DummyVecEnv"
   ]
  },
  {
   "cell_type": "code",
   "execution_count": 40,
   "id": "2f3a3125",
   "metadata": {},
   "outputs": [
    {
     "name": "stdout",
     "output_type": "stream",
     "text": [
      "Moviepy - Building video C:\\Users\\Shun Jie\\Documents\\Github\\pole-cart-balancer-rl\\logs\\videos\\ppo-agent-CartPole-v1-step-0-to-step-1000.mp4.\n",
      "Moviepy - Writing video C:\\Users\\Shun Jie\\Documents\\Github\\pole-cart-balancer-rl\\logs\\videos\\ppo-agent-CartPole-v1-step-0-to-step-1000.mp4\n",
      "\n"
     ]
    },
    {
     "name": "stderr",
     "output_type": "stream",
     "text": [
      "                                                               \r"
     ]
    },
    {
     "name": "stdout",
     "output_type": "stream",
     "text": [
      "Moviepy - Done !\n",
      "Moviepy - video ready C:\\Users\\Shun Jie\\Documents\\Github\\pole-cart-balancer-rl\\logs\\videos\\ppo-agent-CartPole-v1-step-0-to-step-1000.mp4\n"
     ]
    }
   ],
   "source": [
    "done = False\n",
    "vec_env = DummyVecEnv([lambda: gym.make(\"CartPole-v1\", render_mode=\"rgb_array\")])\n",
    "obs = vec_env.reset()\n",
    "\n",
    "#Record the environment at the first step\n",
    "vec_env = VecVideoRecorder(vec_env, \"logs/videos/\",\n",
    "                       record_video_trigger=lambda x: x == 0, video_length=1000,\n",
    "                       name_prefix=f\"ppo-agent-CartPole-v1\")\n",
    "\n",
    "vec_env.reset()\n",
    "for i in range(1000 + 1):\n",
    "    action, _ = model.predict(obs)\n",
    "    obs, reward, done, info = vec_env.step(action)\n",
    "    vec_env.render(\"human\")\n",
    "\n",
    "    if done: \n",
    "        break;\n",
    "vec_env.close()\n",
    "\n",
    "#Hack to close window\n",
    "import cv2\n",
    "cv2.destroyAllWindows()"
   ]
  },
  {
   "cell_type": "code",
   "execution_count": 51,
   "id": "44360c04",
   "metadata": {},
   "outputs": [
    {
     "data": {
      "text/html": [
       "\n",
       "    <video alt=\"test\" controls>\n",
       "        <source src=\"ppo-agent-CartPole-v1-step-0-to-step-1000\" type=\"logs/videos\">\n",
       "    </video>\n"
      ],
      "text/plain": [
       "<IPython.core.display.HTML object>"
      ]
     },
     "execution_count": 51,
     "metadata": {},
     "output_type": "execute_result"
    }
   ],
   "source": [
    "HTML(\"\"\"\n",
    "    <video alt=\"video\" controls>\n",
    "        <source src=\"ppo-agent-CartPole-v1-step-0-to-step-1000\" type=\"logs/videos\">\n",
    "    </video>\n",
    "\"\"\")"
   ]
  },
  {
   "cell_type": "markdown",
   "id": "33c609e5",
   "metadata": {},
   "source": [
    "<h1> Further Investigation on effectiveness of PPO</h1>"
   ]
  },
  {
   "cell_type": "code",
   "execution_count": null,
   "id": "f34cb053",
   "metadata": {
    "scrolled": true
   },
   "outputs": [],
   "source": [
    "import numpy as np\n",
    "\n",
    "avg_score_per_dif_timesteps = []\n",
    "episodes = 100\n",
    "vec_env = model.get_env()\n",
    "\n",
    "for i in range(5000, 35000, 5000):\n",
    "    print(\"Training model for\", i, \"timesteps started\")\n",
    "    model = PPO('MlpPolicy', env, verbose=1)\n",
    "    model.learn(total_timesteps=i)\n",
    "    print(\"Training model for\", i, \"timesteps completed\")\n",
    "    \n",
    "    sum_episode_scores = []  # Reset sum_episode_scores for each timestep iteration\n",
    "    for episode in range(1, episodes + 1):\n",
    "        score = 0\n",
    "        obs = vec_env.reset()  # Reset the environment before each episode\n",
    "\n",
    "        while True:\n",
    "            action, _ = model.predict(obs)\n",
    "            obs, reward, done, info = vec_env.step(action)\n",
    "            score += reward\n",
    "\n",
    "            if done:\n",
    "                break\n",
    "\n",
    "        # Convert score to scalar value if it's a NumPy array\n",
    "        if isinstance(score, np.ndarray):\n",
    "            score = score.item()\n",
    "\n",
    "        sum_episode_scores.append(score)\n",
    "\n",
    "    # Calculate average score for the current timestep iteration\n",
    "    if sum_episode_scores:\n",
    "        avg = sum(sum_episode_scores) / len(sum_episode_scores)\n",
    "    else:\n",
    "        avg = 0\n",
    "\n",
    "    print(\"Average score for\", i, \"timesteps is \", round(avg, 2))\n",
    "    avg_score_per_dif_timesteps.append(round(avg, 2))\n",
    "\n",
    "env.close()\n"
   ]
  },
  {
   "cell_type": "code",
   "execution_count": null,
   "id": "48ba2f04",
   "metadata": {},
   "outputs": [],
   "source": [
    "plt.plot(avg_score_per_dif_timesteps)\n",
    "x_labels = ['5000', '10000', '15000', '20000', '25000', '30000']\n",
    "plt.title(\"Average reward per 100 episode for each X timesteps used for training\")\n",
    "plt.ylabel(\"Average reward\")\n",
    "plt.xlabel(\"Timesteps\")\n",
    "plt.xticks(range(len(x_labels)), x_labels)\n",
    "plt.show()"
   ]
  },
  {
   "cell_type": "markdown",
   "id": "64842c39",
   "metadata": {},
   "source": [
    "From the graph, it can be observed that PPO achieves relatively good reward scores of above 300, typically within the range of 15000 to 25000 steps, achieving  a near perfect performance."
   ]
  }
 ],
 "metadata": {
  "kernelspec": {
   "display_name": "Python 3 (ipykernel)",
   "language": "python",
   "name": "python3"
  },
  "language_info": {
   "codemirror_mode": {
    "name": "ipython",
    "version": 3
   },
   "file_extension": ".py",
   "mimetype": "text/x-python",
   "name": "python",
   "nbconvert_exporter": "python",
   "pygments_lexer": "ipython3",
   "version": "3.11.5"
  }
 },
 "nbformat": 4,
 "nbformat_minor": 5
}
